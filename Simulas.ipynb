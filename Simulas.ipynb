{
 "cells": [
  {
   "cell_type": "markdown",
   "metadata": {},
   "source": [
    "Escreva seu nome: <font color=red>Gianluca Lazzaris Giudici</font>"
   ]
  },
  {
   "cell_type": "markdown",
   "metadata": {},
   "source": [
    "# SIMULADO para Avaliação Intermediária\n",
    "\n",
    "## Ciência dos Dados - 2019.2"
   ]
  },
  {
   "cell_type": "markdown",
   "metadata": {},
   "source": [
    "# Q1 e Q2 Análise do ENEM"
   ]
  },
  {
   "cell_type": "markdown",
   "metadata": {},
   "source": [
    "Esta parte da avaliação se baseia em uma amostra de dados do **ENEM 2017** adaptados para esta prova. O dicionario de dados encontra-se no link a seguir:\n",
    "\n",
    "[Dicionário de dados](./DATA_DIC.html)"
   ]
  },
  {
   "cell_type": "code",
   "execution_count": 61,
   "metadata": {},
   "outputs": [],
   "source": [
    "#bibliotecas que serão utilizadas:\n",
    "\n",
    "%matplotlib inline\n",
    "import pandas as pd\n",
    "import numpy as np\n",
    "import matplotlib.pyplot as plt\n",
    "import random\n",
    "\n",
    "from scipy.stats import binom\n",
    "from scipy.stats import uniform, expon, norm, probplot, percentileofscore # Tirar os imports na versão estudante"
   ]
  },
  {
   "cell_type": "code",
   "execution_count": 5,
   "metadata": {},
   "outputs": [
    {
     "data": {
      "text/html": [
       "<div>\n",
       "<style scoped>\n",
       "    .dataframe tbody tr th:only-of-type {\n",
       "        vertical-align: middle;\n",
       "    }\n",
       "\n",
       "    .dataframe tbody tr th {\n",
       "        vertical-align: top;\n",
       "    }\n",
       "\n",
       "    .dataframe thead th {\n",
       "        text-align: right;\n",
       "    }\n",
       "</style>\n",
       "<table border=\"1\" class=\"dataframe\">\n",
       "  <thead>\n",
       "    <tr style=\"text-align: right;\">\n",
       "      <th></th>\n",
       "      <th>NU_INSCRICAO</th>\n",
       "      <th>SG_UF_RESIDENCIA</th>\n",
       "      <th>NU_IDADE</th>\n",
       "      <th>TP_SEXO</th>\n",
       "      <th>TP_ESTADO_CIVIL</th>\n",
       "      <th>TP_ST_CONCLUSAO</th>\n",
       "      <th>IN_TREINEIRO</th>\n",
       "      <th>NU_NOTA_CN</th>\n",
       "      <th>NU_NOTA_CH</th>\n",
       "      <th>NU_NOTA_LC</th>\n",
       "      <th>...</th>\n",
       "      <th>CARRO</th>\n",
       "      <th>CELULAR</th>\n",
       "      <th>FIXO</th>\n",
       "      <th>COMPUTADOR</th>\n",
       "      <th>INTERNET</th>\n",
       "      <th>Q026</th>\n",
       "      <th>TIPO_EM</th>\n",
       "      <th>RENDA</th>\n",
       "      <th>NOTA_TESTES</th>\n",
       "      <th>NOTA_ENEM</th>\n",
       "    </tr>\n",
       "  </thead>\n",
       "  <tbody>\n",
       "    <tr>\n",
       "      <th>171957</th>\n",
       "      <td>170003469518</td>\n",
       "      <td>MT</td>\n",
       "      <td>26.0</td>\n",
       "      <td>F</td>\n",
       "      <td>0.0</td>\n",
       "      <td>1</td>\n",
       "      <td>0</td>\n",
       "      <td>605.4</td>\n",
       "      <td>657.4</td>\n",
       "      <td>542.4</td>\n",
       "      <td>...</td>\n",
       "      <td>A</td>\n",
       "      <td>E</td>\n",
       "      <td>A</td>\n",
       "      <td>B</td>\n",
       "      <td>A</td>\n",
       "      <td>A</td>\n",
       "      <td>C</td>\n",
       "      <td>3020.091575</td>\n",
       "      <td>2430.9</td>\n",
       "      <td>2990.9</td>\n",
       "    </tr>\n",
       "    <tr>\n",
       "      <th>127898</th>\n",
       "      <td>170005286919</td>\n",
       "      <td>CE</td>\n",
       "      <td>17.0</td>\n",
       "      <td>M</td>\n",
       "      <td>0.0</td>\n",
       "      <td>2</td>\n",
       "      <td>0</td>\n",
       "      <td>698.5</td>\n",
       "      <td>649.0</td>\n",
       "      <td>630.6</td>\n",
       "      <td>...</td>\n",
       "      <td>C</td>\n",
       "      <td>B</td>\n",
       "      <td>A</td>\n",
       "      <td>B</td>\n",
       "      <td>B</td>\n",
       "      <td>B</td>\n",
       "      <td>D</td>\n",
       "      <td>3611.589780</td>\n",
       "      <td>2817.1</td>\n",
       "      <td>3677.1</td>\n",
       "    </tr>\n",
       "    <tr>\n",
       "      <th>132925</th>\n",
       "      <td>170005113172</td>\n",
       "      <td>MA</td>\n",
       "      <td>21.0</td>\n",
       "      <td>M</td>\n",
       "      <td>0.0</td>\n",
       "      <td>1</td>\n",
       "      <td>0</td>\n",
       "      <td>591.0</td>\n",
       "      <td>643.8</td>\n",
       "      <td>597.9</td>\n",
       "      <td>...</td>\n",
       "      <td>A</td>\n",
       "      <td>D</td>\n",
       "      <td>A</td>\n",
       "      <td>B</td>\n",
       "      <td>B</td>\n",
       "      <td>A</td>\n",
       "      <td>A</td>\n",
       "      <td>1375.454182</td>\n",
       "      <td>2385.8</td>\n",
       "      <td>3325.8</td>\n",
       "    </tr>\n",
       "  </tbody>\n",
       "</table>\n",
       "<p>3 rows × 28 columns</p>\n",
       "</div>"
      ],
      "text/plain": [
       "        NU_INSCRICAO SG_UF_RESIDENCIA  NU_IDADE TP_SEXO  TP_ESTADO_CIVIL  \\\n",
       "171957  170003469518               MT      26.0       F              0.0   \n",
       "127898  170005286919               CE      17.0       M              0.0   \n",
       "132925  170005113172               MA      21.0       M              0.0   \n",
       "\n",
       "        TP_ST_CONCLUSAO  IN_TREINEIRO  NU_NOTA_CN  NU_NOTA_CH  NU_NOTA_LC  \\\n",
       "171957                1             0       605.4       657.4       542.4   \n",
       "127898                2             0       698.5       649.0       630.6   \n",
       "132925                1             0       591.0       643.8       597.9   \n",
       "\n",
       "          ...     CARRO  CELULAR  FIXO COMPUTADOR INTERNET  Q026 TIPO_EM  \\\n",
       "171957    ...         A        E     A          B        A     A       C   \n",
       "127898    ...         C        B     A          B        B     B       D   \n",
       "132925    ...         A        D     A          B        B     A       A   \n",
       "\n",
       "              RENDA NOTA_TESTES NOTA_ENEM  \n",
       "171957  3020.091575      2430.9    2990.9  \n",
       "127898  3611.589780      2817.1    3677.1  \n",
       "132925  1375.454182      2385.8    3325.8  \n",
       "\n",
       "[3 rows x 28 columns]"
      ]
     },
     "execution_count": 5,
     "metadata": {},
     "output_type": "execute_result"
    }
   ],
   "source": [
    "filename = \"enem2017_30K.csv\"\n",
    "dados = pd.read_csv(filename, index_col=0)\n",
    "dados.head(3)"
   ]
  },
  {
   "cell_type": "markdown",
   "metadata": {},
   "source": [
    "## 1. Vamos investigar as notas do ENEM.\n",
    "(2 pontos)\n",
    "\n",
    "___\n",
    "\n",
    "\n",
    "**1a.** Visualize as notas do ENEM apresentado um histograma de densidade de frequência **(0,25)**"
   ]
  },
  {
   "cell_type": "code",
   "execution_count": 6,
   "metadata": {},
   "outputs": [
    {
     "data": {
      "image/png": "[encoded data removed]",
      "text/plain": [
       "<Figure size 432x288 with 1 Axes>"
      ]
     },
     "metadata": {
      "needs_background": "light"
     },
     "output_type": "display_data"
    }
   ],
   "source": [
    "dados.NOTA_ENEM.hist(density=True);"
   ]
  },
  {
   "cell_type": "markdown",
   "metadata": {},
   "source": [
    "**1b.** Verifique graficamente usando um recurso diferente do item anterior se a distribuição normal é um modelo adequado para as notas do ENEM. Apresente uma conclusão. **(0,5)**\n",
    "\n",
    "Dica de simulado: use o `probplot` visto nas aulas de distribuições Exponencial e Normal.   "
   ]
  },
  {
   "cell_type": "code",
   "execution_count": 7,
   "metadata": {},
   "outputs": [
    {
     "data": {
      "image/png": "[encoded data removed]",
      "text/plain": [
       "<Figure size 432x288 with 1 Axes>"
      ]
     },
     "metadata": {
      "needs_background": "light"
     },
     "output_type": "display_data"
    }
   ],
   "source": [
    "probplot(dados.NOTA_ENEM, dist=\"norm\" , plot=plt);"
   ]
  },
  {
   "cell_type": "markdown",
   "metadata": {},
   "source": [
    "**Conclusão: no probplot os dados estão bem alinhados à diagonal. É um bom ajuste. As discrepâncias estão bem longe do centro, que concentra a maior probabilidade**"
   ]
  },
  {
   "cell_type": "markdown",
   "metadata": {},
   "source": [
    "**1c.** Supondo então que a distribuição normal é aceitável, realize o ajuste das notas do ENEM por uma normal. Aqui, calcule a média e desvio padrão para estimarem $\\mu$ e $\\sigma$, respectivamente.  **(0,50)**"
   ]
  },
  {
   "cell_type": "markdown",
   "metadata": {},
   "source": [
    "Dica de simulado: a função de fazer ajuste é a `fit`."
   ]
  },
  {
   "cell_type": "code",
   "execution_count": 8,
   "metadata": {},
   "outputs": [
    {
     "data": {
      "text/plain": [
       "(2591.8313599999997, 396.88283964063885)"
      ]
     },
     "execution_count": 8,
     "metadata": {},
     "output_type": "execute_result"
    }
   ],
   "source": [
    "mu, sigma = norm.fit(dados.NOTA_ENEM)\n",
    "mu, sigma"
   ]
  },
  {
   "cell_type": "markdown",
   "metadata": {},
   "source": [
    "**1d.** Visualize a normal plotada no item acima sobre o histograma de densidade e avalie a qualidade do ajuste . **(0,25)**"
   ]
  },
  {
   "cell_type": "markdown",
   "metadata": {},
   "source": [
    "Dica de simulado: veja o gabarito das aulas de contínuas para ver como se plota uma função de densidade de probabilidade sobre um histograma. "
   ]
  },
  {
   "cell_type": "code",
   "execution_count": 9,
   "metadata": {},
   "outputs": [
    {
     "data": {
      "image/png": "[encoded data removed]",
      "text/plain": [
       "<Figure size 432x288 with 1 Axes>"
      ]
     },
     "metadata": {
      "needs_background": "light"
     },
     "output_type": "display_data"
    }
   ],
   "source": [
    "x = np.linspace(min(dados.NOTA_ENEM), max(dados.NOTA_ENEM), 1000)\n",
    "y = norm.pdf(x, loc=mu, scale=sigma)\n",
    "\n",
    "plt.figure();\n",
    "plt.hist(dados.NOTA_ENEM, density=True, bins=15);\n",
    "plt.plot(x, y, 'r-');\n",
    "plt.show();"
   ]
  },
  {
   "cell_type": "markdown",
   "metadata": {},
   "source": [
    "**R.: Na faixa de maior probabilidade o ajuste parece bom .**"
   ]
  },
  {
   "cell_type": "markdown",
   "metadata": {},
   "source": [
    "**1e.** Qual é o maior valor de nota do ENEM entre 70% das menores notas? Responda com base nos dados **(0,50)**"
   ]
  },
  {
   "cell_type": "code",
   "execution_count": 15,
   "metadata": {},
   "outputs": [
    {
     "data": {
      "text/plain": [
       "2775.0"
      ]
     },
     "execution_count": 15,
     "metadata": {},
     "output_type": "execute_result"
    }
   ],
   "source": [
    "dados.NOTA_ENEM.quantile(q=0.7) # maneira mais simples, talvez aproximada mas que o professor aceitará. "
   ]
  },
  {
   "cell_type": "code",
   "execution_count": 17,
   "metadata": {},
   "outputs": [
    {
     "data": {
      "text/plain": [
       "2775.0"
      ]
     },
     "execution_count": 17,
     "metadata": {},
     "output_type": "execute_result"
    }
   ],
   "source": [
    "# maneira que da o numero exato:\n",
    "\n",
    "quantidade=np.int(len(dados.NOTA_ENEM)*0.7) #Quantidade de alunos referente a 70% menores notas\n",
    "\n",
    "dados.NOTA_ENEM.sort_values().iloc[(quantidade-1)] #subtrai 1 porque índice da posição da linha inicia em zero"
   ]
  },
  {
   "cell_type": "markdown",
   "metadata": {},
   "source": [
    "## 2. Fatores sociais e regionais\n",
    "\n",
    "(3 pontos)\n",
    "\n",
    "___\n",
    "\n",
    "**2a.** Ainda usando os dados do ENEM, apresente uma tabela cruzada que mostre a escolaridade do pai cruzada com o tipo do ensino médio. Aponte a combinação de categorias mais frequente e, baseado no dicionário de dados, explique o significa esta combinação de categorias. **(1,00)**"
   ]
  },
  {
   "cell_type": "code",
   "execution_count": 18,
   "metadata": {},
   "outputs": [
    {
     "data": {
      "text/html": [
       "<div>\n",
       "<style scoped>\n",
       "    .dataframe tbody tr th:only-of-type {\n",
       "        vertical-align: middle;\n",
       "    }\n",
       "\n",
       "    .dataframe tbody tr th {\n",
       "        vertical-align: top;\n",
       "    }\n",
       "\n",
       "    .dataframe thead th {\n",
       "        text-align: right;\n",
       "    }\n",
       "</style>\n",
       "<table border=\"1\" class=\"dataframe\">\n",
       "  <thead>\n",
       "    <tr style=\"text-align: right;\">\n",
       "      <th>TIPO_EM</th>\n",
       "      <th>A</th>\n",
       "      <th>B</th>\n",
       "      <th>C</th>\n",
       "      <th>D</th>\n",
       "      <th>E</th>\n",
       "    </tr>\n",
       "    <tr>\n",
       "      <th>ESC_PAI</th>\n",
       "      <th></th>\n",
       "      <th></th>\n",
       "      <th></th>\n",
       "      <th></th>\n",
       "      <th></th>\n",
       "    </tr>\n",
       "  </thead>\n",
       "  <tbody>\n",
       "    <tr>\n",
       "      <th>A</th>\n",
       "      <td>0.050333</td>\n",
       "      <td>0.000633</td>\n",
       "      <td>0.000567</td>\n",
       "      <td>0.000633</td>\n",
       "      <td>0.000467</td>\n",
       "    </tr>\n",
       "    <tr>\n",
       "      <th>B</th>\n",
       "      <td>0.205233</td>\n",
       "      <td>0.003933</td>\n",
       "      <td>0.002600</td>\n",
       "      <td>0.004367</td>\n",
       "      <td>0.002533</td>\n",
       "    </tr>\n",
       "    <tr>\n",
       "      <th>C</th>\n",
       "      <td>0.132233</td>\n",
       "      <td>0.003567</td>\n",
       "      <td>0.002067</td>\n",
       "      <td>0.006300</td>\n",
       "      <td>0.002733</td>\n",
       "    </tr>\n",
       "    <tr>\n",
       "      <th>D</th>\n",
       "      <td>0.104500</td>\n",
       "      <td>0.004233</td>\n",
       "      <td>0.001700</td>\n",
       "      <td>0.009967</td>\n",
       "      <td>0.003200</td>\n",
       "    </tr>\n",
       "    <tr>\n",
       "      <th>E</th>\n",
       "      <td>0.182200</td>\n",
       "      <td>0.012200</td>\n",
       "      <td>0.004833</td>\n",
       "      <td>0.044667</td>\n",
       "      <td>0.010700</td>\n",
       "    </tr>\n",
       "    <tr>\n",
       "      <th>F</th>\n",
       "      <td>0.030333</td>\n",
       "      <td>0.004200</td>\n",
       "      <td>0.001133</td>\n",
       "      <td>0.033333</td>\n",
       "      <td>0.004600</td>\n",
       "    </tr>\n",
       "    <tr>\n",
       "      <th>G</th>\n",
       "      <td>0.011933</td>\n",
       "      <td>0.002533</td>\n",
       "      <td>0.000567</td>\n",
       "      <td>0.026533</td>\n",
       "      <td>0.002567</td>\n",
       "    </tr>\n",
       "    <tr>\n",
       "      <th>H</th>\n",
       "      <td>0.076433</td>\n",
       "      <td>0.002500</td>\n",
       "      <td>0.000900</td>\n",
       "      <td>0.004433</td>\n",
       "      <td>0.001600</td>\n",
       "    </tr>\n",
       "  </tbody>\n",
       "</table>\n",
       "</div>"
      ],
      "text/plain": [
       "TIPO_EM         A         B         C         D         E\n",
       "ESC_PAI                                                  \n",
       "A        0.050333  0.000633  0.000567  0.000633  0.000467\n",
       "B        0.205233  0.003933  0.002600  0.004367  0.002533\n",
       "C        0.132233  0.003567  0.002067  0.006300  0.002733\n",
       "D        0.104500  0.004233  0.001700  0.009967  0.003200\n",
       "E        0.182200  0.012200  0.004833  0.044667  0.010700\n",
       "F        0.030333  0.004200  0.001133  0.033333  0.004600\n",
       "G        0.011933  0.002533  0.000567  0.026533  0.002567\n",
       "H        0.076433  0.002500  0.000900  0.004433  0.001600"
      ]
     },
     "execution_count": 18,
     "metadata": {},
     "output_type": "execute_result"
    }
   ],
   "source": [
    "pd.crosstab(dados.ESC_PAI, dados.TIPO_EM, normalize=True)"
   ]
  },
  {
   "cell_type": "markdown",
   "metadata": {},
   "source": [
    "**R.:O crosstab mostra que  20.53%  das pessoas têm pai com escolaridade B, ou seja, não completou o 5.o ano do fundamental ao mesmo tempo que tipo do ensino médio é A, ou seja, estuda em escola pública.**"
   ]
  },
  {
   "cell_type": "markdown",
   "metadata": {},
   "source": [
    "**2b.** Avalie a afirmação: *pessoas com mais renda* tendem a ir melhor no ENEM **(1,00)**\n",
    "\n",
    "É necessário:\n",
    "\n",
    "* realizar o plot de dispersão renda versus pontuação\n",
    "* realizar um ajuste de retas\n",
    "* Medir com um número o quanto as variáveis *RENDA* e *NOTA_ENEM* variam conjuntamente e discutir o plot."
   ]
  },
  {
   "cell_type": "code",
   "execution_count": 24,
   "metadata": {},
   "outputs": [
    {
     "data": {
      "image/png": "[encoded data removed]",
      "text/plain": [
       "<Figure size 432x288 with 1 Axes>"
      ]
     },
     "metadata": {
      "needs_background": "light"
     },
     "output_type": "display_data"
    }
   ],
   "source": [
    "from numpy.polynomial.polynomial import polyfit\n",
    "\n",
    "plt.scatter(dados.RENDA, dados.NOTA_ENEM)\n",
    "\n",
    "x = dados.RENDA\n",
    "y = dados.NOTA_ENEM\n",
    "\n",
    "b, m = polyfit(x, y, 1)\n",
    "\n",
    "plt.plot(x, b +  m * x, '-', color=\"red\")\n",
    "plt.grid(True)\n",
    "plt.show()"
   ]
  },
  {
   "cell_type": "code",
   "execution_count": 25,
   "metadata": {},
   "outputs": [
    {
     "data": {
      "image/png": "[encoded data removed]",
      "text/plain": [
       "<Figure size 432x288 with 1 Axes>"
      ]
     },
     "metadata": {
      "needs_background": "light"
     },
     "output_type": "display_data"
    }
   ],
   "source": [
    "#maneira do professor:\n",
    "\n",
    "#Coloca os pontos em azul - Gráfico de dispersão\n",
    "dados.plot.scatter(x=\"RENDA\", y=\"NOTA_ENEM\") \n",
    "\n",
    "#Cálculo dos coeficientes da reta\n",
    "a = dados.RENDA.cov(dados.NOTA_ENEM)/dados.RENDA.var() #Obtenção da inclinação (coeficiente angular)\n",
    "b = dados.NOTA_ENEM.mean() - a*dados.RENDA.mean() #Obtenção do intercepto (coeficiente linear)\n",
    "\n",
    "#Para adicionar a reta ao gráfico\n",
    "plt.plot((dados.RENDA.min(), dados.RENDA.max()), \n",
    "         (a*dados.RENDA.min() + b, a*dados.RENDA.max() + b), color='red');"
   ]
  },
  {
   "cell_type": "code",
   "execution_count": 26,
   "metadata": {},
   "outputs": [
    {
     "data": {
      "text/plain": [
       "0.40819007923966166"
      ]
     },
     "execution_count": 26,
     "metadata": {},
     "output_type": "execute_result"
    }
   ],
   "source": [
    "dados.RENDA.corr(dados.NOTA_ENEM)"
   ]
  },
  {
   "cell_type": "markdown",
   "metadata": {},
   "source": [
    "**2c.** Assuma que todos os que têm $NOTA\\_ENEM>3482$ são aceitos em Medicina. A partir dos dados, calcule a probabilidade de que uma pessoa que foi aceita em Medicina seja de São Paulo. Ou seja, calcule $P(SP|aceito)$. **(0,50)**"
   ]
  },
  {
   "cell_type": "code",
   "execution_count": 27,
   "metadata": {},
   "outputs": [
    {
     "data": {
      "text/plain": [
       "0.18666666666666668"
      ]
     },
     "execution_count": 27,
     "metadata": {},
     "output_type": "execute_result"
    }
   ],
   "source": [
    "#Uma maneira:\n",
    "dados[dados.NOTA_ENEM > 3482].SG_UF_RESIDENCIA.value_counts(True)[\"SP\"]"
   ]
  },
  {
   "cell_type": "code",
   "execution_count": 31,
   "metadata": {},
   "outputs": [
    {
     "data": {
      "text/plain": [
       "600"
      ]
     },
     "execution_count": 31,
     "metadata": {},
     "output_type": "execute_result"
    }
   ],
   "source": [
    "#outra maneira mais passo a passo:\n",
    "aceito = dados[dados[\"NOTA_ENEM\"] > 3482]\n",
    "len(aceito)"
   ]
  },
  {
   "cell_type": "code",
   "execution_count": 33,
   "metadata": {},
   "outputs": [
    {
     "data": {
      "text/plain": [
       "112"
      ]
     },
     "execution_count": 33,
     "metadata": {},
     "output_type": "execute_result"
    }
   ],
   "source": [
    "aceitos_de_sp = aceito[aceito[\"SG_UF_RESIDENCIA\"] == \"SP\"]\n",
    "len(aceitos_de_sp)"
   ]
  },
  {
   "cell_type": "code",
   "execution_count": 35,
   "metadata": {},
   "outputs": [
    {
     "data": {
      "text/plain": [
       "0.18666666666666668"
      ]
     },
     "execution_count": 35,
     "metadata": {},
     "output_type": "execute_result"
    }
   ],
   "source": [
    "probabilidade = len(aceitos_de_sp)/len(aceito)\n",
    "probabilidade"
   ]
  },
  {
   "cell_type": "markdown",
   "metadata": {},
   "source": [
    "**2d.** Calcule a probabilidade de alguém do Acre ser aceito em  medicina. **(0,5)**"
   ]
  },
  {
   "cell_type": "code",
   "execution_count": 36,
   "metadata": {},
   "outputs": [
    {
     "data": {
      "text/plain": [
       "MG    0.190000\n",
       "SP    0.186667\n",
       "RJ    0.101667\n",
       "CE    0.061667\n",
       "GO    0.048333\n",
       "RS    0.040000\n",
       "PR    0.038333\n",
       "BA    0.035000\n",
       "PB    0.033333\n",
       "DF    0.030000\n",
       "PE    0.030000\n",
       "PA    0.028333\n",
       "SE    0.025000\n",
       "ES    0.025000\n",
       "PI    0.023333\n",
       "SC    0.018333\n",
       "MA    0.016667\n",
       "AL    0.015000\n",
       "RN    0.011667\n",
       "MS    0.011667\n",
       "MT    0.010000\n",
       "AM    0.008333\n",
       "TO    0.003333\n",
       "AP    0.003333\n",
       "RO    0.003333\n",
       "AC    0.001667\n",
       "Name: SG_UF_RESIDENCIA, dtype: float64"
      ]
     },
     "execution_count": 36,
     "metadata": {},
     "output_type": "execute_result"
    }
   ],
   "source": [
    "#vizualizando os dados para ficar mais claro:\n",
    "\n",
    "dados[dados.NOTA_ENEM > 3482].SG_UF_RESIDENCIA.value_counts(True)"
   ]
  },
  {
   "cell_type": "code",
   "execution_count": 37,
   "metadata": {},
   "outputs": [
    {
     "data": {
      "text/plain": [
       "0.18666666666666668"
      ]
     },
     "execution_count": 37,
     "metadata": {},
     "output_type": "execute_result"
    }
   ],
   "source": [
    "#Outra maneira considerando que P(A|B)=P(A e B)/P(B) \n",
    "#Note que seria redundante dividir numerador e denominador por `len(dados)`\n",
    "len(dados[(dados.SG_UF_RESIDENCIA==\"SP\")&(dados.NOTA_ENEM > 3482)])/len(dados[(dados.NOTA_ENEM > 3482)])"
   ]
  },
  {
   "cell_type": "code",
   "execution_count": 38,
   "metadata": {},
   "outputs": [
    {
     "data": {
      "text/plain": [
       "30000"
      ]
     },
     "execution_count": 38,
     "metadata": {},
     "output_type": "execute_result"
    }
   ],
   "source": [
    "#Quantidade total de alunos na base de dados\n",
    "len(dados)"
   ]
  },
  {
   "cell_type": "code",
   "execution_count": 40,
   "metadata": {},
   "outputs": [
    {
     "data": {
      "text/plain": [
       "3.3333333333333335e-05"
      ]
     },
     "execution_count": 40,
     "metadata": {},
     "output_type": "execute_result"
    }
   ],
   "source": [
    "#Probabilidade de uma pessoa do acre passar em medicina:\n",
    "#Uma maneira\n",
    "len(dados[(dados.NOTA_ENEM > 3482) & (dados.SG_UF_RESIDENCIA ==\"AC\")])/len(dados)"
   ]
  },
  {
   "cell_type": "code",
   "execution_count": 43,
   "metadata": {},
   "outputs": [
    {
     "data": {
      "text/plain": [
       "0.004830917874396135"
      ]
     },
     "execution_count": 43,
     "metadata": {},
     "output_type": "execute_result"
    }
   ],
   "source": [
    "#Outra maneira mais passo a passo de calcular a probabilidade de os do acre passarem em medicina:\n",
    "\n",
    "do_acre = dados[dados[\"SG_UF_RESIDENCIA\"] == \"AC\"] \n",
    "\n",
    "med_do_acre = do_acre[do_acre[\"NOTA_ENEM\"] > 3482]\n",
    "\n",
    "probabilidade = len(med_do_acre)/len(do_acre)\n",
    "probabilidade"
   ]
  },
  {
   "cell_type": "markdown",
   "metadata": {},
   "source": [
    "# Q3. Análise de texto\n",
    "\n",
    "(3.5 pontos)\n",
    "___\n"
   ]
  },
  {
   "cell_type": "markdown",
   "metadata": {},
   "source": [
    "Este exercício é baseado na análise dos scripts do filme [The Godfather](https://www.awesomefilm.com/script/THEGODFATHER.txt), e que está no arquivo `roteiro.txt`"
   ]
  },
  {
   "cell_type": "markdown",
   "metadata": {},
   "source": [
    "Leia o arquivo `roteiro.txt` .\n",
    "\n",
    "Assuma em seus cálculos que a diferença entre letras maiúsculas e minúsculas não importa.\n",
    "\n",
    "Não se preocupe com o *cleanup*"
   ]
  },
  {
   "cell_type": "code",
   "execution_count": 46,
   "metadata": {},
   "outputs": [],
   "source": [
    "filename = \"roteiro.txt\""
   ]
  },
  {
   "cell_type": "code",
   "execution_count": 47,
   "metadata": {},
   "outputs": [],
   "source": [
    "file = open(filename, \"r\")"
   ]
  },
  {
   "cell_type": "code",
   "execution_count": 48,
   "metadata": {},
   "outputs": [],
   "source": [
    "texto  = file.read()"
   ]
  },
  {
   "cell_type": "markdown",
   "metadata": {},
   "source": [
    "Pede-se:"
   ]
  },
  {
   "cell_type": "markdown",
   "metadata": {},
   "source": [
    "**a.** Apresente a tabela de frequências relativas deste roteiro (1.5 pontos)"
   ]
  },
  {
   "cell_type": "code",
   "execution_count": 49,
   "metadata": {},
   "outputs": [],
   "source": [
    "texto = texto.lower().split()"
   ]
  },
  {
   "cell_type": "code",
   "execution_count": 50,
   "metadata": {},
   "outputs": [],
   "source": [
    "serie = pd.Series(texto)"
   ]
  },
  {
   "cell_type": "code",
   "execution_count": 51,
   "metadata": {},
   "outputs": [],
   "source": [
    "f_relativa = serie.value_counts(True)"
   ]
  },
  {
   "cell_type": "markdown",
   "metadata": {},
   "source": [
    "**probabilidades do tipo  P(palavra|roteiro):**"
   ]
  },
  {
   "cell_type": "code",
   "execution_count": 52,
   "metadata": {
    "scrolled": false
   },
   "outputs": [
    {
     "data": {
      "text/plain": [
       "the           0.057716\n",
       "and           0.025930\n",
       "a             0.023297\n",
       "to            0.022770\n",
       "he            0.015676\n",
       "of            0.015583\n",
       "in            0.014932\n",
       "is            0.013972\n",
       "you           0.012268\n",
       "michael       0.011586\n",
       "his           0.011122\n",
       "i             0.010037\n",
       "with          0.007838\n",
       "don           0.007063\n",
       "on            0.006970\n",
       "they          0.005576\n",
       "corleone      0.005236\n",
       "are           0.005143\n",
       "for           0.005112\n",
       "at            0.004926\n",
       "we            0.004833\n",
       "hagen         0.004740\n",
       "it            0.004740\n",
       "sonny         0.004709\n",
       "day:          0.004647\n",
       "then          0.004368\n",
       "that          0.004337\n",
       "my            0.004306\n",
       "as            0.004151\n",
       "out           0.003996\n",
       "                ...   \n",
       "gone,         0.000031\n",
       "question.     0.000031\n",
       "sweat         0.000031\n",
       "turns.        0.000031\n",
       "poor          0.000031\n",
       "unzips,       0.000031\n",
       "pile          0.000031\n",
       "grand?        0.000031\n",
       "wax.          0.000031\n",
       "resisted;     0.000031\n",
       "necessary?    0.000031\n",
       "amazement;    0.000031\n",
       "excitedly,    0.000031\n",
       "changed,      0.000031\n",
       "decorum.      0.000031\n",
       "swings;       0.000031\n",
       "confusion;    0.000031\n",
       "ride          0.000031\n",
       "secure.       0.000031\n",
       "clock         0.000031\n",
       "customs       0.000031\n",
       "gunfire.      0.000031\n",
       "badly         0.000031\n",
       "house:        0.000031\n",
       "range.        0.000031\n",
       "sofa,         0.000031\n",
       "sirens.       0.000031\n",
       "forever.      0.000031\n",
       "awhile.       0.000031\n",
       "slides        0.000031\n",
       "Length: 6192, dtype: float64"
      ]
     },
     "execution_count": 52,
     "metadata": {},
     "output_type": "execute_result"
    }
   ],
   "source": [
    "f_relativa"
   ]
  },
  {
   "cell_type": "markdown",
   "metadata": {},
   "source": [
    "**b.** Assuma que as suposições de independência que fazemos para o *Naive Bayes* são válidas. (2 pontos)"
   ]
  },
  {
   "cell_type": "markdown",
   "metadata": {},
   "source": [
    "Dada a frase `\"Are you talking to me?\"` \n",
    "\n",
    "Calcule $P(frase| roteiro)$"
   ]
  },
  {
   "cell_type": "code",
   "execution_count": 53,
   "metadata": {},
   "outputs": [],
   "source": [
    "# Uma maneira:\n",
    "frase = \"Are you talking to me\".lower()"
   ]
  },
  {
   "cell_type": "code",
   "execution_count": 54,
   "metadata": {},
   "outputs": [],
   "source": [
    "P_frase_roteiro = f_relativa[frase.split()].prod()"
   ]
  },
  {
   "cell_type": "code",
   "execution_count": 56,
   "metadata": {},
   "outputs": [
    {
     "data": {
      "text/plain": [
       "1.0795730035716693e-12"
      ]
     },
     "execution_count": 56,
     "metadata": {},
     "output_type": "execute_result"
    }
   ],
   "source": [
    "P_frase_roteiro"
   ]
  },
  {
   "cell_type": "markdown",
   "metadata": {},
   "source": [
    "# Q4. Probabilidade discreta - erros em impressão 3D\n",
    "\n",
    "(1.5 pontos)\n",
    "___"
   ]
  },
  {
   "cell_type": "markdown",
   "metadata": {},
   "source": [
    "\n",
    "O que é?\n",
    "A impressão inclinada é um dos erros de impressão que ocorre quando o conjunto de extrusão se move menos do que o esperado, devido à uma resistência na movimentação da cabeça de impressão.\n",
    "\n",
    "![](robozinho.png)\n",
    "\n",
    "Fonte: https://3dlab.com.br/20-principais-erros-de-impressao/\n"
   ]
  },
  {
   "cell_type": "markdown",
   "metadata": {},
   "source": [
    "Em uma faculdade de engenharia, o percentual de peças feitas em impressora 3D que apresentam erro de impressão inclinada é de 0,5%.\n",
    "Considere que, durante um semestre do curso de engenharia, os alunos irão imprimir 29 peças. \n"
   ]
  },
  {
   "cell_type": "markdown",
   "metadata": {},
   "source": [
    "(1,0 ponto) Calcule a probabilidade de que haja peça(s) com erro de impressão inclinada até o final do semestre. "
   ]
  },
  {
   "cell_type": "markdown",
   "metadata": {},
   "source": [
    "**Resposta:**"
   ]
  },
  {
   "cell_type": "code",
   "execution_count": 63,
   "metadata": {},
   "outputs": [
    {
     "data": {
      "text/plain": [
       "0.1352922694324663"
      ]
     },
     "execution_count": 63,
     "metadata": {},
     "output_type": "execute_result"
    }
   ],
   "source": [
    "# Uma maneira:\n",
    "n=29\n",
    "p=0.005\n",
    "1-binom.cdf(0, n=n, p=p)"
   ]
  },
  {
   "cell_type": "code",
   "execution_count": 65,
   "metadata": {},
   "outputs": [
    {
     "data": {
      "text/plain": [
       "0.1352922694324663"
      ]
     },
     "execution_count": 65,
     "metadata": {},
     "output_type": "execute_result"
    }
   ],
   "source": [
    "#uma maneira mais trivial:\n",
    "\n",
    "1-(1 - 0.005)**29        #29 = numero de pecas, probabilidade de erro = 0.005, total = 1"
   ]
  }
 ],
 "metadata": {
  "kernelspec": {
   "display_name": "Python 3",
   "language": "python",
   "name": "python3"
  },
  "language_info": {
   "codemirror_mode": {
    "name": "ipython",
    "version": 3
   },
   "file_extension": ".py",
   "mimetype": "text/x-python",
   "name": "python",
   "nbconvert_exporter": "python",
   "pygments_lexer": "ipython3",
   "version": "3.7.1"
  }
 },
 "nbformat": 4,
 "nbformat_minor": 2
}
