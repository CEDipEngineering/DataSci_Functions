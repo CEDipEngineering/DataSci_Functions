{
 "cells": [
  {
   "cell_type": "markdown",
   "metadata": {},
   "source": [
    "<style>\n",
    "td {\n",
    "  font-size: 50px\n",
    "}\n",
    "</style>"
   ]
  },
  {
   "cell_type": "markdown",
   "metadata": {},
   "source": [
    "\n",
    "Escreva seu nome: <font color=red>Carlos Eduardo Dip</font>\n"
   ]
  },
  {
   "cell_type": "markdown",
   "metadata": {},
   "source": [
    "Escreva seu login presente na folha de provas: <font color=red>prova119 </font>"
   ]
  },
  {
   "cell_type": "markdown",
   "metadata": {},
   "source": [
    "\n",
    "\n",
    "# Avaliação Intermediária de Ciência dos dados\n",
    "\n",
    "**2019 - 2o. semestre**"
   ]
  },
  {
   "cell_type": "markdown",
   "metadata": {},
   "source": [
    "___\n",
    "#### Leia atentamente as instruções da AI descritas na parte em papel e que devem ser seguidas rigorosamente aqui!"
   ]
  },
  {
   "cell_type": "markdown",
   "metadata": {},
   "source": [
    "___\n"
   ]
  },
  {
   "cell_type": "markdown",
   "metadata": {},
   "source": [
    "### As funções foram importadas do GitHub: [DataSci_Functions](https://github.com/CEDipEngineering/DataSci_Functions)"
   ]
  },
  {
   "cell_type": "code",
   "execution_count": 27,
   "metadata": {},
   "outputs": [],
   "source": [
    "%matplotlib inline\n",
    "import pandas as pd\n",
    "import numpy as np\n",
    "import matplotlib.pyplot as plt\n",
    "import seaborn as sns\n",
    "from scipy.stats import * ## Não julgue.\n",
    "import os.path\n",
    "import json\n",
    "import re\n",
    "import string\n",
    "import functools\n",
    "import operator\n",
    "from random import shuffle\n",
    "from numpy.polynomial.polynomial import polyfit\n",
    "\n",
    "def prob_between(a, b, loc = 0, scale = 1, avg_occurences = 1, n = 1, p = 0.5,  kind = 'norm'):\n",
    "    \n",
    "    \"\"\"\n",
    "    .\n",
    "    Função para calcular a probabilidade P(X=x), com b <= x <= a\n",
    "    \n",
    "    a = Um dos limites de integração, ou, um dos limites para a variável aleatória. \n",
    "    b = Um dos limites de integração, ou, um dos limites para a variável aleatória.\n",
    "    loc = média; usado para distribuição normal e exponencial.\n",
    "    scale = desvio padrão, usado para distribuição normal e exponencial.\n",
    "    avg_occurences = Número médio de ocorrências por unidade de tempo, comumente, lambda.\n",
    "    n = número de experimentos para as distribuições bernoulli e binomial.\n",
    "    p = probabilidade de um evento de bernoulli ou binomial.\n",
    "    kind = tipo de distribuição.\n",
    "    .\n",
    "    \"\"\"\n",
    "    \n",
    "    mini, maxi = min(a,b), max(a,b)\n",
    "    \n",
    "    kinds = {\n",
    "        'poisson': False,\n",
    "        'binom': False,\n",
    "        'bern': False,\n",
    "        'expon': False\n",
    "    }\n",
    "    \n",
    "    if kind in kinds:\n",
    "        kinds[kind] = True\n",
    "    else:\n",
    "        return -1\n",
    "        \n",
    "    if kinds['poisson']:\n",
    "        return poison.cdf(maxi, mu = avg_occurences) - poison.cdf(mini,  mu = avg_occurences)\n",
    "    if kinds['binom']:\n",
    "        return binom.cdf(maxi, n = n, p = p) - binom.cdf(mini,  n = n, p = p)\n",
    "    if kinds['bern']:\n",
    "        return 0\n",
    "    if kinds['expon']:\n",
    "        return expon.cdf(maxi, loc = loc, scale = scale) - expon.cdf(mini, loc = loc, scale = scale)\n",
    "    return norm.cdf(maxi, loc=loc, scale=scale) - norm.cdf(mini, loc=loc, scale=scale)\n",
    "\n",
    "###############################################################################################################################################\n",
    "\n",
    "def prob_greater(a, loc = 0, scale = 1, avg_occurences = 1, n = 1, p = 0.5,  kind = 'norm'):\n",
    "    \n",
    "    \"\"\"\n",
    "    .\n",
    "    \n",
    "    ### -- IMPORTANTE: A FUNÇÃO SF DO STATS FAZ ISSO -- ###\n",
    "    \n",
    "    Função para calcular a probabilidade P(X=x), com x>=a.\n",
    "        \n",
    "    a = Um dos limites de integração, ou, um dos limites para a variável aleatória. \n",
    "    loc = média; usado para distribuição normal e exponencial.\n",
    "    scale = desvio padrão, usado para distribuição normal e exponencial.\n",
    "    avg_occurences = Número médio de ocorrências por unidade de tempo, comumente, lambda.\n",
    "    n = número de experimentos para as distribuições bernoulli e binomial.\n",
    "    p = probabilidade de um evento de bernoulli ou binomial.\n",
    "    kind = tipo de distribuição.\n",
    "    .\n",
    "    \"\"\"\n",
    "    \n",
    "    kinds = {\n",
    "        'poisson': False,\n",
    "        'binom': False,\n",
    "        'bern': False,\n",
    "        'expon': False\n",
    "    }\n",
    "    \n",
    "    if kind in kinds:\n",
    "        kinds[kind] = True\n",
    "        \n",
    "    if kinds['poisson']:\n",
    "        return 1 - poison.cdf(a,  mu = avg_occurences)\n",
    "    if kinds['binom']:\n",
    "        return 1 - binom.cdf(a,  n = n, p = p)\n",
    "    if kinds['bern']:\n",
    "        return 1 - bern.cdf(a, p = p)\n",
    "    if kinds['expon']:\n",
    "        return 1 - expon.cdf(a, loc = loc, scale = scale)\n",
    "    return 1 - norm.cdf(a, loc = loc, scale = scale)\n",
    "\n",
    "###############################################################################################################################################\n",
    "\n",
    "def find_quantiles(percents = np.arange(0.25, 1,0.25), loc = 0, scale = 1, avg_occurences = 1, n = 1, p = 0.5,  kind = 'norm'):\n",
    "    \n",
    "    \"\"\"\n",
    "    .\n",
    "    Função para calcular os percentis.\n",
    "        \n",
    "    percents = Lista (iterável), de 0 a 1, que contém os percentis que deseja-se obter.    \n",
    "    a = Um dos limites de integração, ou, um dos limites para a variável aleatória. \n",
    "    loc = média; usado para distribuição normal e exponencial.\n",
    "    scale = desvio padrão, usado para distribuição normal e exponencial.\n",
    "    avg_occurences = Número médio de ocorrências por unidade de tempo, comumente, lambda.\n",
    "    n = número de experimentos para as distribuições bernoulli e binomial.\n",
    "    p = probabilidade de um evento de bernoulli ou binomial.\n",
    "    kind = tipo de distribuição.\n",
    "    .\n",
    "    \"\"\"\n",
    "    \n",
    "    kinds = {\n",
    "        'poisson': False,\n",
    "        'binom': False,\n",
    "        'bern': False,\n",
    "        'expon': False\n",
    "    }\n",
    "    \n",
    "    if kind in kinds:\n",
    "        kinds[kind] = True\n",
    "        \n",
    "    if kinds['poisson']:\n",
    "        return [poison.ppf(i,  mu = avg_occurences) for i in percents]\n",
    "    if kinds['binom']:\n",
    "        return [binom.ppf(i,  n = n, p = p) for i in percents]\n",
    "    if kinds['bern']:\n",
    "        return [bern.ppf(i, p = p) for i in percents]\n",
    "    if kinds['expon']:\n",
    "        return [expon.ppf(i, loc = loc, scale = scale) for i in percents]\n",
    "    \n",
    "    return [norm.ppf(i, loc = loc, scale = scale) for i in percents]\n",
    "\n",
    "###############################################################################################################################################\n",
    "\n",
    "def analise_dispersion(dataX, dataY, sort = True):\n",
    "        \n",
    "    \"\"\"\n",
    "    .\n",
    "    Função que retorna um gráfico de dispersão dos dados, com linha de tendência, assim como a média e desvio padrão estimados.\n",
    "    \n",
    "    dataX e dataY = eixos do conjunto de dados a ser analisado. Podem ser listas ou séries do Pandas.\n",
    "    kind = tipo de distribuição esperada. Pode ser estimada com probplots ou multi_probplot.\n",
    "    .\n",
    "    \"\"\"\n",
    "    \n",
    "    y = dataY\n",
    "    x = dataX \n",
    "    if sort:\n",
    "        # Se quiser que ordene seus dados, para melhorar visualização, deixe True.\n",
    "        y = sorted(dataY)\n",
    "    b, m = polyfit(x, y, 1)\n",
    "    f, ax1 = plt.subplots(figsize=(13, 10))     \n",
    "    ax1.plot(x, b + m * x, '-', lw = 2.5, color=\"green\", label = 'Tendência')\n",
    "    ax1.scatter(x, y)\n",
    "    ax1.legend()\n",
    "    corr = pd.Series(dataX).corr(pd.Series(dataY))\n",
    "    return ax1, corr #Plot, correlação de Pearson, respectivamente.\n",
    "\n",
    "###############################################################################################################################################\n",
    "\n",
    "def cleanup(text):\n",
    "    punctuation = '[!-.:?;]' \n",
    "    pattern = re.compile(punctuation)\n",
    "    #text = ' '.join(word for word in text.split() if not word.startswith('ESCREVA OQ VC QUER TIRAR')) \n",
    "    text_subbed = re.sub(pattern, ' ', text)\n",
    "    return text_subbed  \n",
    "\n",
    "###############################################################################################################################################\n",
    "\n",
    "def evaluate_word_origin(text, base_data):\n",
    "    \n",
    "    \"\"\"\n",
    "    .\n",
    "    Função que determina a probabilidade de um texto pertencer a um conjunto de palavras.\n",
    "    \n",
    "    text = Texto a ser avaliado, na forma de string. \n",
    "    base_data = Conjunto de palavras, do qual se quer saber a probabilidade do texto pertencer. Na forma de string ou série Pandas.\n",
    "    .\n",
    "    \"\"\"\n",
    "    \n",
    "    if type(base_data) != type(pd.Series([0,1,2])):\n",
    "        if type(base_data) == type('str'):\n",
    "            data = pd.Series(base_data.split())           \n",
    "    else:\n",
    "        data = base_data\n",
    "    data = data.value_counts(True)\n",
    "    \n",
    "    return data[cleanup(text).split()].prod()\n",
    "    \n",
    "###############################################################################################################################################\n",
    "\n",
    "def seleciona_coluna_qualitativa(data, coluna, tipo):\n",
    "    dados_selecionados = data[data[coluna] == tipo]\n",
    "    return dados_selecionados\n",
    "\n",
    "###############################################################################################################################################\n",
    "\n",
    "def fit_data(data, kind = 'norm'):\n",
    "    \n",
    "    \"\"\"\n",
    "    .\n",
    "    Função que retorna um histograma dos dados, com linha de destribuição teórica, assim como a média e desvio padrão estimados.\n",
    "    \n",
    "    data = Conjunto de dados a ser analisado. Pode ser uma lista ou série Pandas.\n",
    "    kind = tipo de distribuição esperada. Pode ser estimada com probplots ou multi_probplot.\n",
    "    .\n",
    "    \"\"\"\n",
    "    \n",
    "    f, ax1 = plt.subplots(figsize=(13, 10), dpi = 60)\n",
    "    x = np.linspace(min(data), max(data), 500)\n",
    "    data = pd.Series(data)\n",
    "    if kind == 'expon':\n",
    "        loc, scale = expon.fit(data)\n",
    "        ax1.plot(x, expon.pdf(x, loc = loc, scale = scale))\n",
    "        ax1.hist(data, density = True)\n",
    "        return ax1, loc, scale\n",
    "    else:\n",
    "        loc, scale = norm.fit(data)\n",
    "        ax1.plot(x, norm.pdf(x, loc = loc, scale = scale))\n",
    "        ax1.hist(data, density = True)\n",
    "        return ax1, loc, scale\n",
    "    return -1,-1,[]\n",
    "\n",
    "###############################################################################################################################################\n",
    "\n",
    "def multi_probplot(data, loc = 0, scale = 1, avg_occurences = 1, n = 1, p = 0.5):\n",
    "    \n",
    "    \"\"\"\n",
    "    .\n",
    "    Função que gera os 4 probplots mais comuns.\n",
    "    \n",
    "    data = Conjunto de dados a ser analisado. Pode ser uma lista ou série Pandas.\n",
    "    loc = média; usado para distribuição normal e exponencial.\n",
    "    scale = desvio padrão, usado para distribuição normal e exponencial.\n",
    "    avg_occurences = Número médio de ocorrências por unidade de tempo, comumente, lambda.\n",
    "    n = número de experimentos para as distribuições bernoulli e binomial.\n",
    "    p = probabilidade de um evento de bernoulli ou binomial.\n",
    "    kind = tipo de distribuição.\n",
    "    .\n",
    "    \"\"\"\n",
    "    \n",
    "    kinds = {\n",
    "        'poisson': \"Poisson\",\n",
    "        'binom': \"Binomial\",\n",
    "        'expon': \"Exponencial\",\n",
    "        'norm': 'Normal' \n",
    "    }\n",
    "        \n",
    "    for k,v in kinds.items():\n",
    "        if k == 'poisson':\n",
    "            probplot(data, sparams = (avg_occurences), plot = plt, dist = k)\n",
    "        if k == 'binom':\n",
    "            probplot(data, sparams = (n, p), plot = plt, dist = k)\n",
    "        if k == 'expon':\n",
    "            probplot(data, sparams = (loc, scale), plot = plt, dist = k)\n",
    "        if k == 'norm':\n",
    "            probplot(data, sparams = (loc, scale), plot = plt, dist = k)\n",
    "        plt.title(v)\n",
    "        plt.show()\n",
    "        "
   ]
  },
  {
   "cell_type": "markdown",
   "metadata": {},
   "source": [
    "___"
   ]
  },
  {
   "cell_type": "markdown",
   "metadata": {},
   "source": [
    "# Questão 1 - Análise Exploratória\n",
    "\n",
    "**(3.75 pontos)**"
   ]
  },
  {
   "cell_type": "markdown",
   "metadata": {},
   "source": [
    "___"
   ]
  },
  {
   "cell_type": "markdown",
   "metadata": {},
   "source": [
    "\n",
    "\n",
    "<img src=\"spotify.png\" width=33% alt=\"Fonte: https://commons.wikimedia.org/wiki/File:Spotify_Premium_stored-value_cards,_ALDI_Winschoten_(2019).jpg\"> </img>"
   ]
  },
  {
   "cell_type": "markdown",
   "metadata": {},
   "source": [
    "Esta questão usa várias técnicas empregadas no projeto 1."
   ]
  },
  {
   "cell_type": "markdown",
   "metadata": {},
   "source": [
    "\n",
    "Um competidor do Kaggle, George McIntire, que se diz ser apaixonado por músicas, ficou curioso para saber porquê ele gosta das músicas que ele gosta. \n",
    "Com isso, ele construiu um conjunto de dados de músicas de 2017 obtido via API do Spotify e rotulou cada música como *\"Like\"*, o que significa que ele gosta e *\"Dont Like\"* para músicas que não gosta. \n",
    "\n",
    "*Fonte: Textos extraídos e/ou adaptados de [https://www.kaggle.com/geomack/spotifyclassification]([https://www.kaggle.com/geomack/spotifyclassification]).*"
   ]
  },
  {
   "cell_type": "markdown",
   "metadata": {},
   "source": [
    "Consulte o dicionario de dados no link [Dicionário de dados](./Q1_DicioSpotify.pdf) antes de resolver os itens a seguir.\n"
   ]
  },
  {
   "cell_type": "code",
   "execution_count": 28,
   "metadata": {},
   "outputs": [],
   "source": [
    "dados_1 = pd.read_excel(\"Q1_Spotify_CD.xlsx\")"
   ]
  },
  {
   "cell_type": "code",
   "execution_count": 29,
   "metadata": {},
   "outputs": [
    {
     "data": {
      "text/html": [
       "<div>\n",
       "<style scoped>\n",
       "    .dataframe tbody tr th:only-of-type {\n",
       "        vertical-align: middle;\n",
       "    }\n",
       "\n",
       "    .dataframe tbody tr th {\n",
       "        vertical-align: top;\n",
       "    }\n",
       "\n",
       "    .dataframe thead th {\n",
       "        text-align: right;\n",
       "    }\n",
       "</style>\n",
       "<table border=\"1\" class=\"dataframe\">\n",
       "  <thead>\n",
       "    <tr style=\"text-align: right;\">\n",
       "      <th></th>\n",
       "      <th>music_id</th>\n",
       "      <th>acousticness</th>\n",
       "      <th>danceability</th>\n",
       "      <th>duration_ms</th>\n",
       "      <th>energy</th>\n",
       "      <th>instrumentalness</th>\n",
       "      <th>liveness</th>\n",
       "      <th>loudness</th>\n",
       "      <th>speechiness</th>\n",
       "      <th>tempo</th>\n",
       "      <th>valence</th>\n",
       "      <th>song_title</th>\n",
       "      <th>artist</th>\n",
       "      <th>liking</th>\n",
       "    </tr>\n",
       "  </thead>\n",
       "  <tbody>\n",
       "    <tr>\n",
       "      <th>0</th>\n",
       "      <td>0</td>\n",
       "      <td>0.01020</td>\n",
       "      <td>0.833</td>\n",
       "      <td>204600</td>\n",
       "      <td>0.434</td>\n",
       "      <td>0.021900</td>\n",
       "      <td>0.1650</td>\n",
       "      <td>-8.795</td>\n",
       "      <td>0.4310</td>\n",
       "      <td>150.062</td>\n",
       "      <td>0.286</td>\n",
       "      <td>Mask Off</td>\n",
       "      <td>Future</td>\n",
       "      <td>Like</td>\n",
       "    </tr>\n",
       "    <tr>\n",
       "      <th>1</th>\n",
       "      <td>1</td>\n",
       "      <td>0.19900</td>\n",
       "      <td>0.743</td>\n",
       "      <td>326933</td>\n",
       "      <td>0.359</td>\n",
       "      <td>0.006110</td>\n",
       "      <td>0.1370</td>\n",
       "      <td>-10.401</td>\n",
       "      <td>0.0794</td>\n",
       "      <td>160.083</td>\n",
       "      <td>0.588</td>\n",
       "      <td>Redbone</td>\n",
       "      <td>Childish Gambino</td>\n",
       "      <td>Dont Like</td>\n",
       "    </tr>\n",
       "    <tr>\n",
       "      <th>2</th>\n",
       "      <td>2</td>\n",
       "      <td>0.03440</td>\n",
       "      <td>0.838</td>\n",
       "      <td>185707</td>\n",
       "      <td>0.412</td>\n",
       "      <td>0.000234</td>\n",
       "      <td>0.1590</td>\n",
       "      <td>-7.148</td>\n",
       "      <td>0.2890</td>\n",
       "      <td>75.044</td>\n",
       "      <td>0.173</td>\n",
       "      <td>Xanny Family</td>\n",
       "      <td>Future</td>\n",
       "      <td>Like</td>\n",
       "    </tr>\n",
       "    <tr>\n",
       "      <th>3</th>\n",
       "      <td>3</td>\n",
       "      <td>0.60400</td>\n",
       "      <td>0.494</td>\n",
       "      <td>199413</td>\n",
       "      <td>0.338</td>\n",
       "      <td>0.510000</td>\n",
       "      <td>0.0922</td>\n",
       "      <td>-15.236</td>\n",
       "      <td>0.0261</td>\n",
       "      <td>86.468</td>\n",
       "      <td>0.230</td>\n",
       "      <td>Master Of None</td>\n",
       "      <td>Beach House</td>\n",
       "      <td>Dont Like</td>\n",
       "    </tr>\n",
       "    <tr>\n",
       "      <th>4</th>\n",
       "      <td>4</td>\n",
       "      <td>0.18000</td>\n",
       "      <td>0.678</td>\n",
       "      <td>392893</td>\n",
       "      <td>0.561</td>\n",
       "      <td>0.512000</td>\n",
       "      <td>0.4390</td>\n",
       "      <td>-11.648</td>\n",
       "      <td>0.0694</td>\n",
       "      <td>174.004</td>\n",
       "      <td>0.904</td>\n",
       "      <td>Parallel Lines</td>\n",
       "      <td>Junior Boys</td>\n",
       "      <td>Dont Like</td>\n",
       "    </tr>\n",
       "    <tr>\n",
       "      <th>5</th>\n",
       "      <td>5</td>\n",
       "      <td>0.00479</td>\n",
       "      <td>0.804</td>\n",
       "      <td>251333</td>\n",
       "      <td>0.560</td>\n",
       "      <td>0.000000</td>\n",
       "      <td>0.1640</td>\n",
       "      <td>-6.682</td>\n",
       "      <td>0.1850</td>\n",
       "      <td>85.023</td>\n",
       "      <td>0.264</td>\n",
       "      <td>Sneakin’</td>\n",
       "      <td>Drake</td>\n",
       "      <td>Like</td>\n",
       "    </tr>\n",
       "    <tr>\n",
       "      <th>6</th>\n",
       "      <td>6</td>\n",
       "      <td>0.01450</td>\n",
       "      <td>0.739</td>\n",
       "      <td>241400</td>\n",
       "      <td>0.472</td>\n",
       "      <td>0.000007</td>\n",
       "      <td>0.2070</td>\n",
       "      <td>-11.204</td>\n",
       "      <td>0.1560</td>\n",
       "      <td>80.030</td>\n",
       "      <td>0.308</td>\n",
       "      <td>Childs Play</td>\n",
       "      <td>Drake</td>\n",
       "      <td>Dont Like</td>\n",
       "    </tr>\n",
       "    <tr>\n",
       "      <th>7</th>\n",
       "      <td>7</td>\n",
       "      <td>0.02020</td>\n",
       "      <td>0.266</td>\n",
       "      <td>349667</td>\n",
       "      <td>0.348</td>\n",
       "      <td>0.664000</td>\n",
       "      <td>0.1600</td>\n",
       "      <td>-11.609</td>\n",
       "      <td>0.0371</td>\n",
       "      <td>144.154</td>\n",
       "      <td>0.393</td>\n",
       "      <td>Gyöngyhajú lány</td>\n",
       "      <td>Omega</td>\n",
       "      <td>Dont Like</td>\n",
       "    </tr>\n",
       "    <tr>\n",
       "      <th>8</th>\n",
       "      <td>8</td>\n",
       "      <td>0.04810</td>\n",
       "      <td>0.603</td>\n",
       "      <td>202853</td>\n",
       "      <td>0.944</td>\n",
       "      <td>0.000000</td>\n",
       "      <td>0.3420</td>\n",
       "      <td>-3.626</td>\n",
       "      <td>0.3470</td>\n",
       "      <td>130.035</td>\n",
       "      <td>0.398</td>\n",
       "      <td>I've Seen Footage</td>\n",
       "      <td>Death Grips</td>\n",
       "      <td>Like</td>\n",
       "    </tr>\n",
       "    <tr>\n",
       "      <th>9</th>\n",
       "      <td>9</td>\n",
       "      <td>0.00208</td>\n",
       "      <td>0.836</td>\n",
       "      <td>226840</td>\n",
       "      <td>0.603</td>\n",
       "      <td>0.000000</td>\n",
       "      <td>0.5710</td>\n",
       "      <td>-7.792</td>\n",
       "      <td>0.2370</td>\n",
       "      <td>99.994</td>\n",
       "      <td>0.386</td>\n",
       "      <td>Digital Animal</td>\n",
       "      <td>Honey Claws</td>\n",
       "      <td>Like</td>\n",
       "    </tr>\n",
       "  </tbody>\n",
       "</table>\n",
       "</div>"
      ],
      "text/plain": [
       "   music_id  acousticness  danceability  duration_ms  energy  \\\n",
       "0         0       0.01020         0.833       204600   0.434   \n",
       "1         1       0.19900         0.743       326933   0.359   \n",
       "2         2       0.03440         0.838       185707   0.412   \n",
       "3         3       0.60400         0.494       199413   0.338   \n",
       "4         4       0.18000         0.678       392893   0.561   \n",
       "5         5       0.00479         0.804       251333   0.560   \n",
       "6         6       0.01450         0.739       241400   0.472   \n",
       "7         7       0.02020         0.266       349667   0.348   \n",
       "8         8       0.04810         0.603       202853   0.944   \n",
       "9         9       0.00208         0.836       226840   0.603   \n",
       "\n",
       "   instrumentalness  liveness  loudness  speechiness    tempo  valence  \\\n",
       "0          0.021900    0.1650    -8.795       0.4310  150.062    0.286   \n",
       "1          0.006110    0.1370   -10.401       0.0794  160.083    0.588   \n",
       "2          0.000234    0.1590    -7.148       0.2890   75.044    0.173   \n",
       "3          0.510000    0.0922   -15.236       0.0261   86.468    0.230   \n",
       "4          0.512000    0.4390   -11.648       0.0694  174.004    0.904   \n",
       "5          0.000000    0.1640    -6.682       0.1850   85.023    0.264   \n",
       "6          0.000007    0.2070   -11.204       0.1560   80.030    0.308   \n",
       "7          0.664000    0.1600   -11.609       0.0371  144.154    0.393   \n",
       "8          0.000000    0.3420    -3.626       0.3470  130.035    0.398   \n",
       "9          0.000000    0.5710    -7.792       0.2370   99.994    0.386   \n",
       "\n",
       "          song_title            artist     liking  \n",
       "0           Mask Off            Future       Like  \n",
       "1            Redbone  Childish Gambino  Dont Like  \n",
       "2       Xanny Family            Future       Like  \n",
       "3     Master Of None       Beach House  Dont Like  \n",
       "4     Parallel Lines       Junior Boys  Dont Like  \n",
       "5           Sneakin’             Drake       Like  \n",
       "6        Childs Play             Drake  Dont Like  \n",
       "7    Gyöngyhajú lány             Omega  Dont Like  \n",
       "8  I've Seen Footage       Death Grips       Like  \n",
       "9     Digital Animal       Honey Claws       Like  "
      ]
     },
     "execution_count": 29,
     "metadata": {},
     "output_type": "execute_result"
    }
   ],
   "source": [
    "dados_1.head(10)"
   ]
  },
  {
   "cell_type": "code",
   "execution_count": 30,
   "metadata": {},
   "outputs": [],
   "source": [
    "dados_1.liking = dados_1.liking.astype('category')"
   ]
  },
  {
   "cell_type": "code",
   "execution_count": 31,
   "metadata": {
    "scrolled": false
   },
   "outputs": [
    {
     "data": {
      "text/plain": [
       "Index(['music_id', 'acousticness', 'danceability', 'duration_ms', 'energy',\n",
       "       'instrumentalness', 'liveness', 'loudness', 'speechiness', 'tempo',\n",
       "       'valence', 'song_title', 'artist', 'liking'],\n",
       "      dtype='object')"
      ]
     },
     "execution_count": 31,
     "metadata": {},
     "output_type": "execute_result"
    }
   ],
   "source": [
    "dados_1.columns"
   ]
  },
  {
   "cell_type": "markdown",
   "metadata": {},
   "source": [
    "\n",
    "\n"
   ]
  },
  {
   "cell_type": "markdown",
   "metadata": {},
   "source": [
    "\n",
    "\n"
   ]
  },
  {
   "cell_type": "markdown",
   "metadata": {},
   "source": [
    "\n",
    "**A seção a seguir contém uma análise das variáveis  `energy` e  `liking`, por favor faça:**"
   ]
  },
  {
   "cell_type": "markdown",
   "metadata": {},
   "source": [
    "**a)** Construa um histograma de densidade de frequências da variável `energy` separadamente para cada categoria de `liking`. (0.5 ponto)\n"
   ]
  },
  {
   "cell_type": "markdown",
   "metadata": {},
   "source": [
    "**Resposta a partir daqui**"
   ]
  },
  {
   "cell_type": "code",
   "execution_count": 32,
   "metadata": {},
   "outputs": [
    {
     "data": {
      "image/png": "[encoded data removed]",
      "text/plain": [
       "<Figure size 432x288 with 1 Axes>"
      ]
     },
     "metadata": {
      "needs_background": "light"
     },
     "output_type": "display_data"
    }
   ],
   "source": [
    "dados_Like = dados_1[dados_1.liking == 'Like']\n",
    "x = dados_Like.energy\n",
    "plt.hist(x, density = True);"
   ]
  },
  {
   "cell_type": "code",
   "execution_count": 33,
   "metadata": {},
   "outputs": [
    {
     "data": {
      "image/png": "[encoded data removed]",
      "text/plain": [
       "<Figure size 432x288 with 1 Axes>"
      ]
     },
     "metadata": {
      "needs_background": "light"
     },
     "output_type": "display_data"
    }
   ],
   "source": [
    "dados_NoLike = dados_1[dados_1.liking == 'Dont Like']\n",
    "x2 = dados_NoLike.energy\n",
    "plt.hist(x2, density = True);\n",
    "# Não sei o que está acontecendo aqui, o histograma está muito estranho. Normalmente, um histograma de densidade deveria ter área 1. Este não."
   ]
  },
  {
   "cell_type": "markdown",
   "metadata": {},
   "source": [
    "**b)** Interprete os histogramas do item anterior em termos da preferência de George. Existe alguma tendência ou orientação em suas preferências? (0.5 ponto)"
   ]
  },
  {
   "cell_type": "markdown",
   "metadata": {},
   "source": [
    "**Resposta a partir daqui**"
   ]
  },
  {
   "cell_type": "markdown",
   "metadata": {},
   "source": [
    "Parece que ele tende a gostar de músicas com energia mais alta, já que a maior parte das músicas que ele gosta têm energia alta (maior parte da área do primeiro gráfico está à esquerda)."
   ]
  },
  {
   "cell_type": "markdown",
   "metadata": {},
   "source": [
    "**c)** Observando o formato de cada histograma construído anteriormente e utilizando medidas de posição ou centralidade adequadamente, classifique como sendo simétrico, assimétrico a direita ou assimétrico a esquerda. Argumente claramente o motivo de sua classificação. \n",
    "Apresente as referidas medidas de posição (tendência central)  (0.75 ponto)"
   ]
  },
  {
   "cell_type": "markdown",
   "metadata": {},
   "source": [
    "**Resposta a partir daqui**"
   ]
  },
  {
   "cell_type": "markdown",
   "metadata": {},
   "source": [
    "Ambos os histogramas aparentam ser assimétricos à esquerda, já que a maioria dos dados (mediana) estão próximos da moda, (um pouco abaixo de 2 no primeiro gráfico, e entre 1 e 1.5 no segundo), porém ainda havendo muitos outliers para a esquerda (média destorcida)."
   ]
  },
  {
   "cell_type": "markdown",
   "metadata": {},
   "source": [
    "**Análise das variáveis energy e loudness**\n",
    "\n",
    "Neste item, considere as variáveis `energy` e `loudness` (utilize todas as faixas sem separar por `liking`).\n",
    "\n",
    "A partir dos dados, faça:"
   ]
  },
  {
   "cell_type": "markdown",
   "metadata": {},
   "source": [
    "**d)** Apresente um **gráfico** adequado que permita visualizar  a associação entre as variáveis `energy` e `loudness`. Discuta se há uma associação aparente a partir do gráfico (0.75 ponto)"
   ]
  },
  {
   "cell_type": "markdown",
   "metadata": {},
   "source": [
    "**Resposta a partir daqui**"
   ]
  },
  {
   "cell_type": "code",
   "execution_count": 34,
   "metadata": {},
   "outputs": [
    {
     "data": {
      "text/plain": [
       "0.7621769711494922"
      ]
     },
     "execution_count": 34,
     "metadata": {},
     "output_type": "execute_result"
    },
    {
     "data": {
      "image/png": "[encoded data removed]",
      "text/plain": [
       "<Figure size 936x720 with 1 Axes>"
      ]
     },
     "metadata": {
      "needs_background": "light"
     },
     "output_type": "display_data"
    }
   ],
   "source": [
    "plot, corr = analise_dispersion(dados_1.energy, dados_1.loudness)\n",
    "corr #Correlação de Pearson"
   ]
  },
  {
   "cell_type": "markdown",
   "metadata": {},
   "source": [
    "Parece haver alguma correlação entre as variáveis de energy e loudness. Podemos percebr isso pelo agrupamento de pontos na região superior direita, que corresponde a músicas com energia alta (acima de 0.7), e volumes mais elevados (próximos de -5dB), o que sugere uma tendência das músicas da amostra."
   ]
  },
  {
   "cell_type": "markdown",
   "metadata": {},
   "source": [
    "**e)** Utilizando uma **medida-resumo** adequada, discuta o grau de associação dessas duas variáveis: `energy` e `loudness`. (0.75 ponto)"
   ]
  },
  {
   "cell_type": "markdown",
   "metadata": {},
   "source": [
    "**Resposta a partir daqui**"
   ]
  },
  {
   "cell_type": "markdown",
   "metadata": {},
   "source": [
    "Pela variável corr (explicitada acima do gráfico), percebemos que existe uma correlação alta entre as variáveis, 0.76 pontos na correlação de Pearson, indicando forte correlação positiva entre níveis crescentes de energia e volume."
   ]
  },
  {
   "cell_type": "markdown",
   "metadata": {},
   "source": [
    "___"
   ]
  },
  {
   "cell_type": "markdown",
   "metadata": {},
   "source": [
    "# Questão 2 - modelos probabilísticos"
   ]
  },
  {
   "cell_type": "markdown",
   "metadata": {},
   "source": [
    "**(3.75 pontos)**"
   ]
  },
  {
   "cell_type": "markdown",
   "metadata": {},
   "source": [
    "___"
   ]
  },
  {
   "cell_type": "markdown",
   "metadata": {},
   "source": [
    "![Fonte: https://commons.wikimedia.org/wiki/File:Structure_volcano_unlabeled.svg](volcano.png)"
   ]
  },
  {
   "cell_type": "markdown",
   "metadata": {},
   "source": [
    "Kabum Prime é um planetinha no sistema solar de Zica-Centauri.\n",
    "O ano em Kabum Prime tem 50 dias. Em Kabum Prime tem um vulcão que entra em erupção várias vezes por ano. Estamos no ano 10333 da nova era de Kabum Prime. Os cientistas kabunianos tabelaram as erupções do vulcão nos últimos 1000 anos kabunianos, e guardaram em um arquivo `\"Q3_erupcoes.csv\"`."
   ]
  },
  {
   "cell_type": "markdown",
   "metadata": {},
   "source": [
    "Nesta tabela são registrados o **ano** e o **dia** em que cada erupção vulcânica ocorreu"
   ]
  },
  {
   "cell_type": "code",
   "execution_count": 35,
   "metadata": {},
   "outputs": [
    {
     "data": {
      "text/html": [
       "<div>\n",
       "<style scoped>\n",
       "    .dataframe tbody tr th:only-of-type {\n",
       "        vertical-align: middle;\n",
       "    }\n",
       "\n",
       "    .dataframe tbody tr th {\n",
       "        vertical-align: top;\n",
       "    }\n",
       "\n",
       "    .dataframe thead th {\n",
       "        text-align: right;\n",
       "    }\n",
       "</style>\n",
       "<table border=\"1\" class=\"dataframe\">\n",
       "  <thead>\n",
       "    <tr style=\"text-align: right;\">\n",
       "      <th></th>\n",
       "      <th>ano</th>\n",
       "      <th>dia</th>\n",
       "    </tr>\n",
       "  </thead>\n",
       "  <tbody>\n",
       "    <tr>\n",
       "      <th>0</th>\n",
       "      <td>10234</td>\n",
       "      <td>4</td>\n",
       "    </tr>\n",
       "    <tr>\n",
       "      <th>1</th>\n",
       "      <td>10234</td>\n",
       "      <td>17</td>\n",
       "    </tr>\n",
       "    <tr>\n",
       "      <th>2</th>\n",
       "      <td>10234</td>\n",
       "      <td>19</td>\n",
       "    </tr>\n",
       "    <tr>\n",
       "      <th>3</th>\n",
       "      <td>10234</td>\n",
       "      <td>35</td>\n",
       "    </tr>\n",
       "    <tr>\n",
       "      <th>4</th>\n",
       "      <td>10234</td>\n",
       "      <td>44</td>\n",
       "    </tr>\n",
       "  </tbody>\n",
       "</table>\n",
       "</div>"
      ],
      "text/plain": [
       "     ano  dia\n",
       "0  10234    4\n",
       "1  10234   17\n",
       "2  10234   19\n",
       "3  10234   35\n",
       "4  10234   44"
      ]
     },
     "execution_count": 35,
     "metadata": {},
     "output_type": "execute_result"
    }
   ],
   "source": [
    "df = pd.read_csv('Q2_erupcoes.csv')\n",
    "df.head()"
   ]
  },
  {
   "cell_type": "markdown",
   "metadata": {},
   "source": [
    "Sabe-se que as erupções do vulcão acontecem independentemente: pode ser que tenhamos várias erupções por dia, pode ser que não tenhamos nenhuma, uma erupção não impacta a outra. Sabe-se também que o vulcão está permanentemente ativo, sempre com a mesma chance de irromper."
   ]
  },
  {
   "cell_type": "markdown",
   "metadata": {},
   "source": [
    "**a)** Apresente uma tabela  que conte quantas erupcões acontecem por ano. Use o pandas para obtê-la(0.5)"
   ]
  },
  {
   "cell_type": "code",
   "execution_count": 36,
   "metadata": {},
   "outputs": [
    {
     "data": {
      "text/plain": [
       "11187    20\n",
       "10528    20\n",
       "10924    19\n",
       "10677    19\n",
       "11048    19\n",
       "10828    19\n",
       "10283    19\n",
       "11049    18\n",
       "10809    18\n",
       "Name: ano, dtype: int64"
      ]
     },
     "execution_count": 36,
     "metadata": {},
     "output_type": "execute_result"
    }
   ],
   "source": [
    "df.ano.value_counts().head(9)"
   ]
  },
  {
   "cell_type": "markdown",
   "metadata": {},
   "source": [
    "**b)** Qual distribuição melhor modela o número de erupções anual do vulcão?  Para a distribuição apontada,  quais (ou qual) devem ser seus parâmetros? (0.5)"
   ]
  },
  {
   "cell_type": "code",
   "execution_count": 37,
   "metadata": {},
   "outputs": [
    {
     "data": {
      "image/png": "[encoded data removed]",
      "text/plain": [
       "<Figure size 432x288 with 1 Axes>"
      ]
     },
     "metadata": {
      "needs_background": "light"
     },
     "output_type": "display_data"
    },
    {
     "data": {
      "image/png": "[encoded data removed]",
      "text/plain": [
       "<Figure size 432x288 with 1 Axes>"
      ]
     },
     "metadata": {
      "needs_background": "light"
     },
     "output_type": "display_data"
    },
    {
     "data": {
      "image/png": "[encoded data removed]",
      "text/plain": [
       "<Figure size 432x288 with 1 Axes>"
      ]
     },
     "metadata": {
      "needs_background": "light"
     },
     "output_type": "display_data"
    },
    {
     "data": {
      "image/png": "[encoded data removed]",
      "text/plain": [
       "<Figure size 432x288 with 1 Axes>"
      ]
     },
     "metadata": {
      "needs_background": "light"
     },
     "output_type": "display_data"
    }
   ],
   "source": [
    "# Calcule os parâmetros da distribuição\n",
    "multi_probplot(df.ano.value_counts())"
   ]
  },
  {
   "cell_type": "markdown",
   "metadata": {},
   "source": [
    "Como visto nos probplots acima, parece que a distribuição normal é a que mais se adequa aos eventos vulcânicos de Zica-Centauri.\n",
    "Assim, podemos fazer um ajuste de curva para visualizar como essa distribuição se compara com medidas teóricas."
   ]
  },
  {
   "cell_type": "code",
   "execution_count": 38,
   "metadata": {},
   "outputs": [
    {
     "name": "stdout",
     "output_type": "stream",
     "text": [
      "A media e desvio padrão estimados são, respectivamente 10.074;3.173\n"
     ]
    },
    {
     "data": {
      "image/png": "[encoded data removed]",
      "text/plain": [
       "<Figure size 780x600 with 1 Axes>"
      ]
     },
     "metadata": {
      "needs_background": "light"
     },
     "output_type": "display_data"
    }
   ],
   "source": [
    "plot, media, sigma = fit_data(df.ano.value_counts())\n",
    "sigma = round(sigma, 3)\n",
    "print(\"A media e desvio padrão estimados são, respectivamente {0};{1}\".format(media,sigma))"
   ]
  },
  {
   "cell_type": "markdown",
   "metadata": {},
   "source": [
    "**R**: Assim, os parâmetros serão:\n",
    "- Média: 10.074\n",
    "- Desvio Padrão: 3.173"
   ]
  },
  {
   "cell_type": "markdown",
   "metadata": {},
   "source": [
    "**c)** O grande sábio Vaydar Ru-Im (Nice) prevê que neste ano que se inicia teremos pelo menos 15 erupções e ele nunca erra.\n",
    "\n",
    "Usando a distribuição obtida no item *(b)* e sabendo quo grande sábio nunca erra, responda: qual a probabilidade de que tenhamos número de erupções neste ano que exceda o recorde atual?\n",
    "(1.00)"
   ]
  },
  {
   "cell_type": "code",
   "execution_count": 39,
   "metadata": {},
   "outputs": [
    {
     "data": {
      "text/plain": [
       "0.0008791935254909923"
      ]
     },
     "execution_count": 39,
     "metadata": {},
     "output_type": "execute_result"
    }
   ],
   "source": [
    "recorde = max(df.ano.value_counts())\n",
    "norm.sf(recorde, loc = media, scale = sigma)"
   ]
  },
  {
   "cell_type": "markdown",
   "metadata": {},
   "source": [
    "Se ele nunca erra, Vaydar Ru-Im, definitivamente. Contudo, a chance dele estar certo ainda é 0.087%."
   ]
  },
  {
   "cell_type": "markdown",
   "metadata": {},
   "source": [
    "**d)** Um bilionário do planeta decidiu doar toda sua fortuna  para o governo do planeta para ajuda humanitária se houver um número muito grande de erupções. Mas o bilionário é quem define o número de erupções. (0.75)\n",
    "\n",
    "Como ele não é bobo, gostaria que a probabilidade de doar sua fortuna fosse de $1\\%$ ou menos\n",
    "\n",
    "Qual deve ser o número de erupções que ele deve escolher usando a distribuição escolhida **no item (b)**?\n"
   ]
  },
  {
   "cell_type": "code",
   "execution_count": 40,
   "metadata": {},
   "outputs": [
    {
     "data": {
      "text/plain": [
       "17.45550180433159"
      ]
     },
     "execution_count": 40,
     "metadata": {},
     "output_type": "execute_result"
    }
   ],
   "source": [
    "# Calcule o número de erupções\n",
    "norm.ppf(0.99, loc = media, scale = sigma)"
   ]
  },
  {
   "cell_type": "markdown",
   "metadata": {},
   "source": [
    "**R.** Basta o milionário sugerir que ele só doará de fato, caso hajam 18 (arredondando para cima), ou mais erupções. Ainda acredito que ele não deveria fazer isso, mas o dinheiro é dele."
   ]
  },
  {
   "cell_type": "markdown",
   "metadata": {},
   "source": [
    "**e)** O mês kabuniano tem 5 dias (ou seja, o ano tem 10 meses). Se acontece uma erupção no mês, cada kabuniano ganha 100 dinheiros de indenização do governo. Se acontecem 2 erupções, cada kabuniano ganha 150 dinheiros de indenização. Por fim, se acontecem 3 ou mais erupções o governo paga 200 dinheiros de indenização a cada kabuniano. Qual o valor esperado de indenizações por kabuniano em um mês? Qual o desvio-padrão? (1.00 ponto)"
   ]
  },
  {
   "cell_type": "markdown",
   "metadata": {},
   "source": [
    "Como as erupções anuais seguem uma distribuição normal, podemos presumir que as mensais também. Assim, podemos presumir que a média e o desvio padrão são diretamente procporcionais ao intervalo de tempo analisados. Para transformar a análise feita anualmente em mensal, basta dividir tanto a média, quanto o desvio padrão por 10 (10 meses no ano)."
   ]
  },
  {
   "cell_type": "code",
   "execution_count": 41,
   "metadata": {},
   "outputs": [],
   "source": [
    "media_mes = media/10\n",
    "sigma_mes = sigma/10"
   ]
  },
  {
   "cell_type": "markdown",
   "metadata": {},
   "source": [
    "Agora que temos os novos parâmetros da distribuição, o cálculo do valor esperado é simples:"
   ]
  },
  {
   "cell_type": "code",
   "execution_count": 42,
   "metadata": {},
   "outputs": [
    {
     "data": {
      "text/plain": [
       "127.11033041063688"
      ]
     },
     "execution_count": 42,
     "metadata": {},
     "output_type": "execute_result"
    }
   ],
   "source": [
    "valor = 0\n",
    "valor += norm.pdf(1, loc = media_mes, scale = sigma_mes)*100\n",
    "valor += norm.pdf(2, loc = media_mes, scale = sigma_mes)*150\n",
    "valor += norm.sf(3, loc = media_mes, scale = sigma_mes)*200  #O mesmo que 1 - cdf().\n",
    "valor"
   ]
  },
  {
   "cell_type": "markdown",
   "metadata": {},
   "source": [
    "Assim, o valor esperado é 127.11 dinheiros, com novo desvio padrão de 0.317."
   ]
  },
  {
   "cell_type": "markdown",
   "metadata": {},
   "source": [
    "___"
   ]
  },
  {
   "cell_type": "markdown",
   "metadata": {},
   "source": [
    "# Questão 3 - análise de texto"
   ]
  },
  {
   "cell_type": "markdown",
   "metadata": {},
   "source": [
    "**(2.5 pontos)**"
   ]
  },
  {
   "cell_type": "markdown",
   "metadata": {},
   "source": [
    "___"
   ]
  },
  {
   "cell_type": "markdown",
   "metadata": {},
   "source": [
    "![Fonte: https://commons.wikimedia.org/wiki/File:CocaColaBottle_background_free.png](coca_cola.png)"
   ]
  },
  {
   "cell_type": "markdown",
   "metadata": {},
   "source": [
    "Esta questão é baseada no Projeto 2"
   ]
  },
  {
   "cell_type": "markdown",
   "metadata": {},
   "source": [
    "Você foi contratado pela empresa *The Coca Cola Company* para fazer monitoramento de redes sociais. Sua empresa fez um *bot* que continuamente busca por novas postagens no Twitter e as classifica."
   ]
  },
  {
   "cell_type": "markdown",
   "metadata": {},
   "source": [
    "A empresa está interessada em saber quais mensagens estão felizes com a marca versus o total que estão neutros ou insatisfeitos."
   ]
  },
  {
   "cell_type": "markdown",
   "metadata": {},
   "source": [
    "Sua base de treinamento está no arquivo `coca_cola.xlsx`.  \n",
    "\n",
    "As mensagens felizes têm a coluna **Categoria** com valor `FELIZ` e as mensagens que não são felizes têm como **Categoria** o valor `NAO_FELIZ`."
   ]
  },
  {
   "cell_type": "markdown",
   "metadata": {},
   "source": [
    "Note que a coluna Texto já passou pelas seguintes etapas:\n",
    "* Conversão para letras minúsculas\n",
    "* Limpeza de pontuação"
   ]
  },
  {
   "cell_type": "code",
   "execution_count": 43,
   "metadata": {},
   "outputs": [],
   "source": [
    "tweets = pd.read_excel(\"Q3_coca_cola.xlsx\")"
   ]
  },
  {
   "cell_type": "code",
   "execution_count": 44,
   "metadata": {},
   "outputs": [
    {
     "data": {
      "text/html": [
       "<div>\n",
       "<style scoped>\n",
       "    .dataframe tbody tr th:only-of-type {\n",
       "        vertical-align: middle;\n",
       "    }\n",
       "\n",
       "    .dataframe tbody tr th {\n",
       "        vertical-align: top;\n",
       "    }\n",
       "\n",
       "    .dataframe thead th {\n",
       "        text-align: right;\n",
       "    }\n",
       "</style>\n",
       "<table border=\"1\" class=\"dataframe\">\n",
       "  <thead>\n",
       "    <tr style=\"text-align: right;\">\n",
       "      <th></th>\n",
       "      <th>Texto</th>\n",
       "      <th>Categoria</th>\n",
       "    </tr>\n",
       "  </thead>\n",
       "  <tbody>\n",
       "    <tr>\n",
       "      <th>0</th>\n",
       "      <td>acho que comer hamburguer de soja e se entupir...</td>\n",
       "      <td>NAO_FELIZ</td>\n",
       "    </tr>\n",
       "    <tr>\n",
       "      <th>1</th>\n",
       "      <td>gosto mais de vaca preta  coca cola com sorvet...</td>\n",
       "      <td>FELIZ</td>\n",
       "    </tr>\n",
       "    <tr>\n",
       "      <th>2</th>\n",
       "      <td>me prometo uma coca cola gelada para o  fim do...</td>\n",
       "      <td>FELIZ</td>\n",
       "    </tr>\n",
       "    <tr>\n",
       "      <th>3</th>\n",
       "      <td>essa coca cola gelada fez meu dia</td>\n",
       "      <td>FELIZ</td>\n",
       "    </tr>\n",
       "    <tr>\n",
       "      <th>4</th>\n",
       "      <td>prometo parar com doce refrigerante coca cola ...</td>\n",
       "      <td>NAO_FELIZ</td>\n",
       "    </tr>\n",
       "  </tbody>\n",
       "</table>\n",
       "</div>"
      ],
      "text/plain": [
       "                                               Texto  Categoria\n",
       "0  acho que comer hamburguer de soja e se entupir...  NAO_FELIZ\n",
       "1  gosto mais de vaca preta  coca cola com sorvet...      FELIZ\n",
       "2  me prometo uma coca cola gelada para o  fim do...      FELIZ\n",
       "3                  essa coca cola gelada fez meu dia      FELIZ\n",
       "4  prometo parar com doce refrigerante coca cola ...  NAO_FELIZ"
      ]
     },
     "execution_count": 44,
     "metadata": {},
     "output_type": "execute_result"
    }
   ],
   "source": [
    "tweets.head()"
   ]
  },
  {
   "cell_type": "markdown",
   "metadata": {},
   "source": [
    "Pede-se:"
   ]
  },
  {
   "cell_type": "markdown",
   "metadata": {},
   "source": [
    "**a)** Junte todas as mensagens da cada categoria em uma *string* única\n",
    "(0.5 ponto)"
   ]
  },
  {
   "cell_type": "code",
   "execution_count": 45,
   "metadata": {},
   "outputs": [],
   "source": [
    "sad = tweets[tweets.Categoria == \"NAO_FELIZ\"]\n",
    "hpy = tweets[tweets.Categoria == \"FELIZ\"]\n",
    "string_sad = ' '\n",
    "string_hpy = ' '\n",
    "\n",
    "for frase in sad.Texto:     # Deselegante, mas funciona.\n",
    "    string_sad += frase + ' '\n",
    "for frase in hpy.Texto:\n",
    "    string_hpy += frase + ' '\n"
   ]
  },
  {
   "cell_type": "markdown",
   "metadata": {},
   "source": [
    "**b)** Apresente as tabelas que são equivalentes a $P(palavra|FELIZ)$ e $P(palavra|NAO\\_FELIZ)$, e que contém todas as palavras presentes nas respectivas categorias.\n",
    "\n",
    "Você deve guardá-las em variáveis e exibi-las de forma semelhante ao que foi feito com o comando `tweets.head()` acima. (0.5 ponto)"
   ]
  },
  {
   "cell_type": "code",
   "execution_count": 46,
   "metadata": {},
   "outputs": [
    {
     "data": {
      "text/plain": [
       "coca    0.087302\n",
       "cola    0.079365\n",
       "de      0.039683\n",
       "que     0.031746\n",
       "a       0.031746\n",
       "dtype: float64"
      ]
     },
     "execution_count": 46,
     "metadata": {},
     "output_type": "execute_result"
    }
   ],
   "source": [
    "freq_hpy = pd.Series(string_hpy.split()).value_counts(True)\n",
    "freq_sad = pd.Series(string_sad.split()).value_counts(True)\n",
    "freq_sad.head(5)"
   ]
  },
  {
   "cell_type": "code",
   "execution_count": 47,
   "metadata": {},
   "outputs": [
    {
     "data": {
      "text/plain": [
       "coca    0.081871\n",
       "cola    0.076023\n",
       "de      0.052632\n",
       "com     0.035088\n",
       "a       0.029240\n",
       "dtype: float64"
      ]
     },
     "execution_count": 47,
     "metadata": {},
     "output_type": "execute_result"
    }
   ],
   "source": [
    "freq_hpy.head(5)"
   ]
  },
  {
   "cell_type": "markdown",
   "metadata": {},
   "source": [
    "**R.:**\n",
    "\n",
    "$P(palavra|FELIZ)$"
   ]
  },
  {
   "cell_type": "code",
   "execution_count": 48,
   "metadata": {},
   "outputs": [
    {
     "data": {
      "text/plain": [
       "0.08187134502923976"
      ]
     },
     "execution_count": 48,
     "metadata": {},
     "output_type": "execute_result"
    }
   ],
   "source": [
    "# insira aqui os comandos para obter\n",
    "palavra = 'coca'\n",
    "freq_hpy[palavra]"
   ]
  },
  {
   "cell_type": "markdown",
   "metadata": {},
   "source": [
    "$P(palavra|NAO\\_FELIZ)$"
   ]
  },
  {
   "cell_type": "code",
   "execution_count": 49,
   "metadata": {},
   "outputs": [
    {
     "data": {
      "text/plain": [
       "0.0873015873015873"
      ]
     },
     "execution_count": 49,
     "metadata": {},
     "output_type": "execute_result"
    }
   ],
   "source": [
    "# insira aqui os comandos para palavra não feliz. Crie mais células se precisar\n",
    "freq_sad[palavra]"
   ]
  },
  {
   "cell_type": "markdown",
   "metadata": {},
   "source": [
    "**c)** Considerando que: \n",
    "* Não deve ser feito nenhum tratamento para o caso de palavras inéditas\n",
    "* Não devem ser usadas bibliotecas de *machine learning* ou estatística\n",
    "* Atenha-se ao `pandas` e `numpy`\n",
    "\n",
    "\n",
    "\n",
    "Por favor faça:\n",
    "\n",
    "Classifique usando um classificador *Naive Bayes* se a frase `\"prometo que vai ser a última coca cola do dia\"` é uma frase que pertence à categoria `FELIZ` ou `NAO_FELIZ`\n",
    "\n",
    "Deixe claro (pode ser em comentários) o significado de seus cálculos e a qual conclusão chegou. Principalmente deixei claro *em qual número* baseou a conclusão \n",
    "\n",
    "Atente que vai ser necessário calcular os valores de $P(FELIZ)$ e $P(NAO\\_FELIZ)$\n",
    "\n",
    "\n",
    "Valor: (1.5 ponto)\n"
   ]
  },
  {
   "cell_type": "code",
   "execution_count": 50,
   "metadata": {},
   "outputs": [],
   "source": [
    "frase = \"prometo que vai ser a última coca cola do dia\" # frase a classificar"
   ]
  },
  {
   "cell_type": "code",
   "execution_count": 51,
   "metadata": {},
   "outputs": [
    {
     "data": {
      "text/plain": [
       "(0.5478723404255319, 0.4521276595744681)"
      ]
     },
     "execution_count": 51,
     "metadata": {},
     "output_type": "execute_result"
    }
   ],
   "source": [
    "P_Feliz = len(freq_hpy)/(len(freq_hpy)+len(freq_sad)) # Aqui, fiz o número de ocorrências de palavras felizes, dividido pelo tamanho do vocabluário.\n",
    "P_Sad = len(freq_sad)/(len(freq_hpy)+len(freq_sad)) # Aqui, o contrário, dividindo o número de palavras triste pelo mesmo vocabulário.\n",
    "P_Feliz, P_Sad # Mostrando os resultados."
   ]
  },
  {
   "cell_type": "code",
   "execution_count": 52,
   "metadata": {},
   "outputs": [
    {
     "data": {
      "text/plain": [
       "(8.395801548348335e-19, 1.5779683522758007e-18)"
      ]
     },
     "execution_count": 52,
     "metadata": {},
     "output_type": "execute_result"
    }
   ],
   "source": [
    "#Cálculo da probabilidade. Multiplica as frequências relativas, e depois multiplica pela probabilidade de pertencer aquele conjunto.\n",
    "P_frase_hpy = freq_hpy[frase.split()].prod()*P_Feliz\n",
    "P_frase_sad = freq_sad[frase.split()].prod()*P_Sad \n",
    "P_frase_hpy, P_frase_sad # Mostrando os resultados."
   ]
  },
  {
   "cell_type": "markdown",
   "metadata": {},
   "source": [
    "Podemos perceber, então, que a probabilidade da frase \"prometo que vai ser a última coca cola do dia\" ser feliz é muito menor do que a probabilidade de ela ser triste (12 ordens de grandeza menor). Assim, podemos concluir que a a frase, muito provavelmente, veio de alguém NAO_FELIZ."
   ]
  }
 ],
 "metadata": {
  "kernelspec": {
   "display_name": "Python 3",
   "language": "python",
   "name": "python3"
  },
  "language_info": {
   "codemirror_mode": {
    "name": "ipython",
    "version": 3
   },
   "file_extension": ".py",
   "mimetype": "text/x-python",
   "name": "python",
   "nbconvert_exporter": "python",
   "pygments_lexer": "ipython3",
   "version": "3.7.1"
  }
 },
 "nbformat": 4,
 "nbformat_minor": 2
}
